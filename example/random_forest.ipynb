{
 "cells": [
  {
   "cell_type": "markdown",
   "metadata": {},
   "source": [
    "# Introduction\n",
    "\n",
    "causalkit is a rust implementation for a set of causal inference algorithms. Currently, there are two algorithms: RandomForestClassifier and RandomForestRegressor.\n",
    "\n",
    "In this notebook, we use synthetic data generated from causalml package to demonstrate how to use causalkit"
   ]
  },
  {
   "cell_type": "code",
   "execution_count": null,
   "metadata": {
    "ExecuteTime": {
     "end_time": "2021-11-29T22:50:05.320170Z",
     "start_time": "2021-11-29T22:50:01.628054Z"
    },
    "tags": []
   },
   "outputs": [],
   "source": [
    "import numpy as np\n",
    "import pandas as pd\n",
    "\n",
    "from causalml.dataset import make_uplift_classification\n",
    "from causalml.metrics import plot_gain\n",
    "\n",
    "from sklearn.model_selection import train_test_split"
   ]
  },
  {
   "cell_type": "code",
   "execution_count": null,
   "metadata": {
    "tags": []
   },
   "outputs": [],
   "source": [
    "from causalkit import CausalModel"
   ]
  },
  {
   "cell_type": "markdown",
   "metadata": {},
   "source": [
    "### Generate synthetic data by causalml "
   ]
  },
  {
   "cell_type": "markdown",
   "metadata": {},
   "source": [
    "To train the model, we need to specify a treatment column that indicates which treatment is taken for each record. the treatment column of the synthetic data is `treatment_group_key`. It contains string values such as control,treatment1, etc..\n",
    "\n",
    "causalkit only accepts dataframe with numeric values. Especially, the treatment column should contain values 0,1,..K where 0 represents the control group. \n",
    "\n",
    "so we need to create a new treatment column `action` and delete the string column `treatment_group_key`"
   ]
  },
  {
   "cell_type": "code",
   "execution_count": null,
   "metadata": {},
   "outputs": [],
   "source": [
    "df, x_names = make_uplift_classification()"
   ]
  },
  {
   "cell_type": "code",
   "execution_count": null,
   "metadata": {},
   "outputs": [],
   "source": [
    "df.head()"
   ]
  },
  {
   "cell_type": "code",
   "execution_count": null,
   "metadata": {
    "ExecuteTime": {
     "end_time": "2021-11-29T22:50:05.418771Z",
     "start_time": "2021-11-29T22:50:05.356908Z"
    },
    "tags": []
   },
   "outputs": [],
   "source": [
    "# Look at the conversion rate and sample size in each group\n",
    "df.pivot_table(values='conversion',\n",
    "               index='treatment_group_key',\n",
    "               aggfunc=[np.mean, np.size],\n",
    "               margins=True)"
   ]
  },
  {
   "cell_type": "markdown",
   "metadata": {},
   "source": [
    "df_train, df_test = train_test_split(df, test_size=0.2, random_state=111)"
   ]
  },
  {
   "cell_type": "code",
   "execution_count": null,
   "metadata": {},
   "outputs": [],
   "source": [
    "mapping = {\n",
    "    \"control\": 0,\n",
    "    \"treatment1\": 1,\n",
    "    \"treatment2\": 2,\n",
    "    \"treatment3\": 3,    \n",
    "}"
   ]
  },
  {
   "cell_type": "code",
   "execution_count": null,
   "metadata": {},
   "outputs": [],
   "source": [
    "df_train[\"action\"] = df_train[\"treatment_group_key\"].map(lambda x: mapping[x])\n",
    "del df_train[\"treatment_group_key\"]\n",
    "\n",
    "df_test[\"action\"] = df_test[\"treatment_group_key\"].map(lambda x: mapping[x])\n",
    "del df_test[\"treatment_group_key\"]"
   ]
  },
  {
   "cell_type": "markdown",
   "metadata": {},
   "source": [
    "### Create random forest classifier by causalkit"
   ]
  },
  {
   "cell_type": "markdown",
   "metadata": {},
   "source": [
    "The entry point to create a model is `CausalModel`. For training, `feature`, `treatment`, `y` are required in `params`; for testing, you may provide all, but only `feature` is required in params.\n",
    "\n",
    "CausalModel(model_type, params)\n",
    "\n",
    "- model_type (str): RandomForestClassifier / RandomForestRegressor\n",
    "- params (dict):\n",
    "    - feature (List[str]): list of input features; should be the same order for train/test\n",
    "    - cat (List[str] = []): features in this list will be treated as categorical features\n",
    "    - treatment (List[str] = []): list of treatment columns, support only one treatment column for now\n",
    "    - y (str = \"\"): the response column\n",
    "    - weight (str = \"\"): weight column, if empty, all samples in the dataset have equal weights\n",
    "    - n_bin (int = 30): num of bins for each feature\n",
    "    - min_samples_leaf (int = 100): minimal #samples in each leaf node\n",
    "    - min_samples_treatment (int = 10): minimal #treated samples in each leaf node\n",
    "    - max_features (int = 10): maximal #feature to consider when splitting node\n",
    "    - max_depth (int = 6): maximal depth of a tree\n",
    "    - n_tree (int = 100): #trees in the random forest\n",
    "    - n_reg (int = 10): regularization param\n",
    "    - alpha (float = 0.9): regularization param\n",
    "    - normalization (bool = True): regularization param\n",
    "    - subsample (float = 1.0): subsample of a dataset to build a tree\n",
    "    - n_thread (int = 1): #threads to build trees in parallel\n",
    "    - seed (int = None): random seed\n",
    "    \n",
    "Model functions\n",
    "- fit(columns, array):\n",
    "    - columns: all column names corresponding to the array\n",
    "    - array: numpy array of the data\n",
    "- predict(columns, array):\n",
    "    - columns: all column names corresponding to the array\n",
    "    - array: numpy array of the data\n",
    "    - return:\n",
    "        - score: NxT numpy matrix, N is #record, T is #treatment. for example, if there are two groups control/treatment, then T=1. the score is the uplift of Prob(Y|treatment) - Prob(Y|control)\n",
    "- load(model_type, path):\n",
    "    - model_type (str): RandomForestClassifier / RandomForestRegressor\n",
    "    - path (str): disk location of the model file\n",
    "- save(path):\n",
    "    - path (str): save to disk"
   ]
  },
  {
   "cell_type": "code",
   "execution_count": null,
   "metadata": {},
   "outputs": [],
   "source": [
    "params = {\"feature\": x_names, \"y\": \"conversion\", \"treatment\": [\"action\"]}"
   ]
  },
  {
   "cell_type": "code",
   "execution_count": null,
   "metadata": {
    "tags": []
   },
   "outputs": [],
   "source": [
    "# parameter for regression is the same\n",
    "# simply use CausalModel(\"RandomForestRegressor\", params)\n",
    "\n",
    "model = CausalModel(\"RandomForestClassifier\", params)"
   ]
  },
  {
   "cell_type": "code",
   "execution_count": null,
   "metadata": {
    "tags": []
   },
   "outputs": [],
   "source": [
    "model.fit(df_train.columns.tolist(), df_train.values)"
   ]
  },
  {
   "cell_type": "code",
   "execution_count": null,
   "metadata": {
    "tags": []
   },
   "outputs": [],
   "source": [
    "score = model.predict(df_test.columns.tolist(), df_test.values)"
   ]
  },
  {
   "cell_type": "code",
   "execution_count": null,
   "metadata": {
    "tags": []
   },
   "outputs": [],
   "source": [
    "# there are 3 treatments in the dataset, therefore score is Nx3 matrix\n",
    "result = pd.DataFrame(score, columns=[\"treatment1\", \"treatment2\", \"treatment3\"])"
   ]
  },
  {
   "cell_type": "code",
   "execution_count": null,
   "metadata": {
    "tags": []
   },
   "outputs": [],
   "source": []
  }
 ],
 "metadata": {
  "kernelspec": {
   "display_name": "Python 3 (ipykernel)",
   "language": "python",
   "name": "python3"
  },
  "language_info": {
   "codemirror_mode": {
    "name": "ipython",
    "version": 3
   },
   "file_extension": ".py",
   "mimetype": "text/x-python",
   "name": "python",
   "nbconvert_exporter": "python",
   "pygments_lexer": "ipython3",
   "version": "3.10.6"
  },
  "toc": {
   "base_numbering": 1,
   "nav_menu": {},
   "number_sections": true,
   "sideBar": true,
   "skip_h1_title": false,
   "title_cell": "Table of Contents",
   "title_sidebar": "Contents",
   "toc_cell": false,
   "toc_position": {},
   "toc_section_display": true,
   "toc_window_display": false
  }
 },
 "nbformat": 4,
 "nbformat_minor": 4
}
